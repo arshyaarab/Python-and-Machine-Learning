{
  "nbformat": 4,
  "nbformat_minor": 0,
  "metadata": {
    "colab": {
      "provenance": [],
      "authorship_tag": "ABX9TyM1ZsHFMTUyNPbAbLyEKSpo",
      "include_colab_link": true
    },
    "kernelspec": {
      "name": "python3",
      "display_name": "Python 3"
    },
    "language_info": {
      "name": "python"
    }
  },
  "cells": [
    {
      "cell_type": "markdown",
      "metadata": {
        "id": "view-in-github",
        "colab_type": "text"
      },
      "source": [
        "<a href=\"https://colab.research.google.com/github/arshyaarab/Python-and-Machine-Learning/blob/main/valid%20Parentheses%20.ipynb\" target=\"_parent\"><img src=\"https://colab.research.google.com/assets/colab-badge.svg\" alt=\"Open In Colab\"/></a>"
      ]
    },
    {
      "cell_type": "markdown",
      "source": [
        "**Using stack**\n",
        "\n",
        "One approach to check balanced parentheses is to use stack. Each time, when an open parentheses is encountered push it in the stack, and when closed parenthesis is encountered, match it with the top of stack and pop it. If stack is empty at the end, return Balanced otherwise, Unbalanced."
      ],
      "metadata": {
        "id": "brRzYwvXOScW"
      }
    },
    {
      "cell_type": "code",
      "execution_count": 1,
      "metadata": {
        "colab": {
          "base_uri": "https://localhost:8080/"
        },
        "id": "QGYAqdUYnW0j",
        "outputId": "5ae70e48-cd08-4cc1-e698-832dc64def73"
      },
      "outputs": [
        {
          "output_type": "stream",
          "name": "stdout",
          "text": [
            "{[]{()}} - Balanced\n",
            "[{}{})(] - Unbalanced\n",
            "((() - Unbalanced\n"
          ]
        }
      ],
      "source": [
        "# Python3 code to Check for \n",
        "# balanced parentheses in an expression\n",
        "open_list = [\"[\",\"{\",\"(\"]\n",
        "close_list = [\"]\",\"}\",\")\"]\n",
        "  \n",
        "# Function to check parentheses\n",
        "def check(myStr):\n",
        "    stack = []\n",
        "    for i in myStr:\n",
        "        if i in open_list:\n",
        "            stack.append(i)\n",
        "        elif i in close_list:\n",
        "            pos = close_list.index(i)\n",
        "            if ((len(stack) > 0) and\n",
        "                (open_list[pos] == stack[len(stack)-1])):\n",
        "                stack.pop()\n",
        "            else:\n",
        "                return \"Unbalanced\"\n",
        "    if len(stack) == 0:\n",
        "        return \"Balanced\"\n",
        "    else:\n",
        "        return \"Unbalanced\"\n",
        "  \n",
        "  \n",
        "# Driver code\n",
        "string = \"{[]{()}}\"\n",
        "print(string,\"-\", check(string))\n",
        "  \n",
        "string = \"[{}{})(]\"\n",
        "print(string,\"-\", check(string))\n",
        "  \n",
        "string = \"((()\"\n",
        "print(string,\"-\",check(string))"
      ]
    },
    {
      "cell_type": "markdown",
      "source": [],
      "metadata": {
        "id": "Bpr9N6v3OIB8"
      }
    },
    {
      "cell_type": "markdown",
      "source": [
        "**Using queue**\n",
        "\n",
        "First Map opening parentheses to respective closing parentheses. Iterate through the given expression using ‘i’, if ‘i’ is an open parentheses, append in queue, if ‘i’ is close parentheses, Check whether queue is empty or ‘i’ is the top element of queue, if yes, return “Unbalanced”, otherwise “Balanced”.**bold text**"
      ],
      "metadata": {
        "id": "BkSL429pN9az"
      }
    },
    {
      "cell_type": "markdown",
      "source": [],
      "metadata": {
        "id": "4fWV_GmROGbX"
      }
    },
    {
      "cell_type": "code",
      "source": [
        "# Python3 code to Check for \n",
        "# balanced parentheses in an expression\n",
        "def check(expression):\n",
        "      \n",
        "    open_tup = tuple('({[')\n",
        "    close_tup = tuple(')}]')\n",
        "    map = dict(zip(open_tup, close_tup))\n",
        "    queue = []\n",
        "  \n",
        "    for i in expression:\n",
        "        if i in open_tup:\n",
        "            queue.append(map[i])\n",
        "        elif i in close_tup:\n",
        "            if not queue or i != queue.pop():\n",
        "                return \"Unbalanced\"\n",
        "    if not queue:\n",
        "        return \"Balanced\"\n",
        "    else:\n",
        "        return \"Unbalanced\"\n",
        "  \n",
        "# Driver code\n",
        "string = \"{[]{()}}\"\n",
        "print(string, \"-\", check(string))\n",
        "  \n",
        "string = \"((()\"\n",
        "print(string,\"-\",check(string))"
      ],
      "metadata": {
        "colab": {
          "base_uri": "https://localhost:8080/"
        },
        "id": "3DOZPH29Myut",
        "outputId": "3a38d8c9-3296-4971-b3b5-cbac768b2dbc"
      },
      "execution_count": 2,
      "outputs": [
        {
          "output_type": "stream",
          "name": "stdout",
          "text": [
            "{[]{()}} - Balanced\n",
            "((() - Unbalanced\n"
          ]
        }
      ]
    },
    {
      "cell_type": "markdown",
      "source": [
        "***Elimination based***\n",
        "In every iteration, the innermost brackets get eliminated (replaced with empty string). If we end up with an empty string, our initial one was balanced; otherwise, not."
      ],
      "metadata": {
        "id": "3X6uL9gDNx-o"
      }
    },
    {
      "cell_type": "code",
      "source": [
        "# Python3 code to Check for \n",
        "# balanced parentheses in an expression\n",
        "def check(my_string):\n",
        "    brackets = ['()', '{}', '[]']\n",
        "    while any(x in my_string for x in brackets):\n",
        "        for br in brackets:\n",
        "            my_string = my_string.replace(br, '')\n",
        "    return not my_string\n",
        "   \n",
        "# Driver code\n",
        "string = \"{[]{()}}\"\n",
        "print(string, \"-\", \"Balanced\" \n",
        "      if check(string) else \"Unbalanced\")"
      ],
      "metadata": {
        "colab": {
          "base_uri": "https://localhost:8080/"
        },
        "id": "xYivlGC7Ngpy",
        "outputId": "94e71bc8-57aa-4758-b7fa-2a56c04817fc"
      },
      "execution_count": 3,
      "outputs": [
        {
          "output_type": "stream",
          "name": "stdout",
          "text": [
            "{[]{()}} - Balanced\n"
          ]
        }
      ]
    },
    {
      "cell_type": "code",
      "source": [],
      "metadata": {
        "id": "F8b5BGgMNt5x"
      },
      "execution_count": null,
      "outputs": []
    }
  ]
}